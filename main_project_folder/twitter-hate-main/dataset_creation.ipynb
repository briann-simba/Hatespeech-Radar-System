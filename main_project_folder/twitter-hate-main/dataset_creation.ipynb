{
 "cells": [
  {
   "cell_type": "code",
   "execution_count": 1,
   "id": "30438d2d",
   "metadata": {},
   "outputs": [],
   "source": [
    "import numpy as np \n",
    "import pandas as pd\n",
    "import re\n",
    "from nltk.corpus import stopwords\n",
    "from nltk import word_tokenize\n",
    "STOPWORDS = set(stopwords.words('english'))\n"
   ]
  },
  {
   "cell_type": "code",
   "execution_count": 7,
   "id": "c7ac3524",
   "metadata": {},
   "outputs": [],
   "source": [
    "df1=pd.read_csv(\"HateSpeechOffensiveLanguageDataset/labeled_data.csv\")\n",
    "df2=pd.read_csv(\"HateSpeechDetection-main/data/train_final_data.csv\")\n",
    "df2=df2.drop([\n",
    "    df2.columns[0],\n",
    "    \"user\",\"location\",\"description\",\"friends_count\",\"followers_count\",\n",
    "    \"statuses_count\",\"tweet_date\",\"retweet_count\",\"likes\",\"hashtags\"],axis=1)\n",
    "df1=df1.drop([df1.columns[0],\"hate_speech\",\"count\",\"offensive_language\",\"neither\"],axis=1)\n",
    "df1['class'] = np.where(df1['class']<2, 1, 0)\n",
    "df1.rename(\n",
    "    columns={\"class\":\"label\"\n",
    "                }\n",
    "          ,inplace=True)\n",
    "\n",
    "df2.tail(50)\n",
    "frames=[df1,df2]\n",
    "df=pd.concat(frames)\n",
    "df.to_csv('normal-binary-hate.csv')"
   ]
  }
 ],
 "metadata": {
  "kernelspec": {
   "display_name": "Python 3 (ipykernel)",
   "language": "python",
   "name": "python3"
  },
  "language_info": {
   "codemirror_mode": {
    "name": "ipython",
    "version": 3
   },
   "file_extension": ".py",
   "mimetype": "text/x-python",
   "name": "python",
   "nbconvert_exporter": "python",
   "pygments_lexer": "ipython3",
   "version": "3.9.12"
  }
 },
 "nbformat": 4,
 "nbformat_minor": 5
}
